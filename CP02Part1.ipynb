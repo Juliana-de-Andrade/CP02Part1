{
  "nbformat": 4,
  "nbformat_minor": 0,
  "metadata": {
    "colab": {
      "provenance": []
    },
    "kernelspec": {
      "name": "python3",
      "display_name": "Python 3"
    },
    "language_info": {
      "name": "python"
    }
  },
  "cells": [
    {
      "cell_type": "code",
      "source": [
        "#imports\n",
        "import numpy as np\n",
        "import pandas as pd\n",
        "from sklearn.datasets import fetch_california_housing\n",
        "from sklearn.model_selection import train_test_split\n",
        "from sklearn.preprocessing import StandardScaler\n",
        "from sklearn.linear_model import LinearRegression\n",
        "from sklearn.ensemble import RandomForestRegressor\n",
        "from sklearn.metrics import mean_squared_error, mean_absolute_error\n",
        "import tensorflow as tf\n",
        "from tensorflow import keras\n",
        "from tensorflow.keras import layers\n",
        "import matplotlib.pyplot as plt"
      ],
      "metadata": {
        "id": "8NB1IMPlJFgJ"
      },
      "execution_count": null,
      "outputs": []
    },
    {
      "cell_type": "markdown",
      "source": [
        "ExERCÍCIO 1 – CLASSIFICAÇÃO MULTICLASSE\n",
        "Dataset: Wine Dataset (UCI)\n",
        "1. Treinar uma rede neural em Keras para classificar vinhos em 3 classes.\n",
        "- Configuração mínima: 2 camadas ocultas com 32 neurônios cada, função de ativação ReLU.\n",
        "- Camada de saída com 3 neurônios, função de ativação Softmax.\n",
        "- Função de perda: categorical_crossentropy.\n",
        "- Otimizador: Adam.\n",
        "2. Comparar os resultados com um modelo do scikit-learn (RandomForestClassifier ou\n",
        "LogisticRegression).\n",
        "3. Registrar métricas de acurácia e discutir qual modelo teve melhor desempenho"
      ],
      "metadata": {
        "id": "6e9QEkAdJirS"
      }
    },
    {
      "cell_type": "code",
      "execution_count": null,
      "metadata": {
        "id": "Kja6daXg2iJ2"
      },
      "outputs": [],
      "source": []
    },
    {
      "cell_type": "markdown",
      "source": [
        "EXERCÍCIO 2 – REGRESSÃO\n",
        "Dataset: California Housing Dataset (Scikit-learn)\n",
        "1. Treinar uma rede neural em Keras para prever o valor médio das casas.\n",
        "- Configuração mínima: 3 camadas ocultas com 64, 32 e 16 neurônios, função de ativação ReLU.\n",
        "- Camada de saída com 1 neurônio, função de ativação Linear.\n",
        "- Função de perda: mse.\n",
        "- Otimizador: Adam.\n",
        "2. Comparar os resultados com um modelo do scikit-learn (LinearRegression ou\n",
        "RandomForestRegressor).\n",
        "3. Registrar métricas de erro (RMSE ou MAE) e discutir qual modelo teve melhor desempenho"
      ],
      "metadata": {
        "id": "x6yBfBDxJl24"
      }
    },
    {
      "cell_type": "code",
      "source": [
        "# 1. Carregar e preparar os dados\n",
        "print(\"Carregando o dataset California Housing...\")\n",
        "housing = fetch_california_housing()\n",
        "X, y = housing.data, housing.target"
      ],
      "metadata": {
        "id": "YHqX_wjWJooI",
        "colab": {
          "base_uri": "https://localhost:8080/"
        },
        "outputId": "56e44d11-b28a-4c32-ba6a-5bb8b3b38ef9"
      },
      "execution_count": null,
      "outputs": [
        {
          "output_type": "stream",
          "name": "stdout",
          "text": [
            "Carregando o dataset California Housing...\n"
          ]
        }
      ]
    },
    {
      "cell_type": "code",
      "source": [
        "# Dividir em treino e teste\n",
        "X_train, X_test, y_train, y_test = train_test_split(\n",
        "    X, y, test_size=0.2, random_state=42)"
      ],
      "metadata": {
        "id": "Bqwd_BDYKN4Q"
      },
      "execution_count": null,
      "outputs": []
    },
    {
      "cell_type": "code",
      "source": [
        "# Escalar os dados\n",
        "scaler = StandardScaler()\n",
        "X_train_scaled = scaler.fit_transform(X_train)\n",
        "X_test_scaled = scaler.transform(X_test)\n",
        "\n",
        "print(f\"Shape dos dados de treino: {X_train.shape}\")\n",
        "print(f\"Shape dos dados de teste: {X_test.shape}\")\n",
        "print(f\"Nomes das features: {housing.feature_names}\")"
      ],
      "metadata": {
        "colab": {
          "base_uri": "https://localhost:8080/"
        },
        "id": "WViYXfeVKTxA",
        "outputId": "9a872e5f-980d-4f63-a7c5-3b1f65f7985f"
      },
      "execution_count": null,
      "outputs": [
        {
          "output_type": "stream",
          "name": "stdout",
          "text": [
            "Shape dos dados de treino: (16512, 8)\n",
            "Shape dos dados de teste: (4128, 8)\n",
            "Nomes das features: ['MedInc', 'HouseAge', 'AveRooms', 'AveBedrms', 'Population', 'AveOccup', 'Latitude', 'Longitude']\n"
          ]
        }
      ]
    },
    {
      "cell_type": "code",
      "source": [
        "# 2. Treinar modelo Keras\n",
        "print(\"\\n\" + \"=\"*50)\n",
        "print(\"Treinando Rede Neural Keras...\")\n",
        "print(\"=\"*50)\n",
        "\n",
        "def create_keras_model():\n",
        "    model = keras.Sequential([\n",
        "        layers.Dense(64, activation='relu', input_shape=(X_train.shape[1],)),\n",
        "        layers.Dense(32, activation='relu'),\n",
        "        layers.Dense(16, activation='relu'),\n",
        "        layers.Dense(1, activation='linear')\n",
        "    ])\n",
        "\n",
        "    model.compile(\n",
        "        optimizer='adam',\n",
        "        loss='mse',\n",
        "        metrics=['mae']\n",
        "    )\n",
        "    return model\n",
        "\n",
        "# Criar e treinar o modelo\n",
        "keras_model = create_keras_model()\n",
        "\n",
        "print(\"Arquitetura da rede neural:\")\n",
        "keras_model.summary()\n",
        "\n",
        "# Callback para early stopping\n",
        "early_stopping = keras.callbacks.EarlyStopping(\n",
        "    patience=10,\n",
        "    restore_best_weights=True)"
      ],
      "metadata": {
        "colab": {
          "base_uri": "https://localhost:8080/",
          "height": 359
        },
        "id": "z0wUCAaqKaCp",
        "outputId": "b240a59a-0d4f-4a8e-966f-a6ee9aa72506"
      },
      "execution_count": null,
      "outputs": [
        {
          "output_type": "stream",
          "name": "stdout",
          "text": [
            "\n",
            "==================================================\n",
            "Treinando Rede Neural Keras...\n",
            "==================================================\n",
            "Arquitetura da rede neural:\n"
          ]
        },
        {
          "output_type": "display_data",
          "data": {
            "text/plain": [
              "\u001b[1mModel: \"sequential_2\"\u001b[0m\n"
            ],
            "text/html": [
              "<pre style=\"white-space:pre;overflow-x:auto;line-height:normal;font-family:Menlo,'DejaVu Sans Mono',consolas,'Courier New',monospace\"><span style=\"font-weight: bold\">Model: \"sequential_2\"</span>\n",
              "</pre>\n"
            ]
          },
          "metadata": {}
        },
        {
          "output_type": "display_data",
          "data": {
            "text/plain": [
              "┏━━━━━━━━━━━━━━━━━━━━━━━━━━━━━━━━━┳━━━━━━━━━━━━━━━━━━━━━━━━┳━━━━━━━━━━━━━━━┓\n",
              "┃\u001b[1m \u001b[0m\u001b[1mLayer (type)                   \u001b[0m\u001b[1m \u001b[0m┃\u001b[1m \u001b[0m\u001b[1mOutput Shape          \u001b[0m\u001b[1m \u001b[0m┃\u001b[1m \u001b[0m\u001b[1m      Param #\u001b[0m\u001b[1m \u001b[0m┃\n",
              "┡━━━━━━━━━━━━━━━━━━━━━━━━━━━━━━━━━╇━━━━━━━━━━━━━━━━━━━━━━━━╇━━━━━━━━━━━━━━━┩\n",
              "│ dense_8 (\u001b[38;5;33mDense\u001b[0m)                 │ (\u001b[38;5;45mNone\u001b[0m, \u001b[38;5;34m64\u001b[0m)             │           \u001b[38;5;34m576\u001b[0m │\n",
              "├─────────────────────────────────┼────────────────────────┼───────────────┤\n",
              "│ dense_9 (\u001b[38;5;33mDense\u001b[0m)                 │ (\u001b[38;5;45mNone\u001b[0m, \u001b[38;5;34m32\u001b[0m)             │         \u001b[38;5;34m2,080\u001b[0m │\n",
              "├─────────────────────────────────┼────────────────────────┼───────────────┤\n",
              "│ dense_10 (\u001b[38;5;33mDense\u001b[0m)                │ (\u001b[38;5;45mNone\u001b[0m, \u001b[38;5;34m16\u001b[0m)             │           \u001b[38;5;34m528\u001b[0m │\n",
              "├─────────────────────────────────┼────────────────────────┼───────────────┤\n",
              "│ dense_11 (\u001b[38;5;33mDense\u001b[0m)                │ (\u001b[38;5;45mNone\u001b[0m, \u001b[38;5;34m1\u001b[0m)              │            \u001b[38;5;34m17\u001b[0m │\n",
              "└─────────────────────────────────┴────────────────────────┴───────────────┘\n"
            ],
            "text/html": [
              "<pre style=\"white-space:pre;overflow-x:auto;line-height:normal;font-family:Menlo,'DejaVu Sans Mono',consolas,'Courier New',monospace\">┏━━━━━━━━━━━━━━━━━━━━━━━━━━━━━━━━━┳━━━━━━━━━━━━━━━━━━━━━━━━┳━━━━━━━━━━━━━━━┓\n",
              "┃<span style=\"font-weight: bold\"> Layer (type)                    </span>┃<span style=\"font-weight: bold\"> Output Shape           </span>┃<span style=\"font-weight: bold\">       Param # </span>┃\n",
              "┡━━━━━━━━━━━━━━━━━━━━━━━━━━━━━━━━━╇━━━━━━━━━━━━━━━━━━━━━━━━╇━━━━━━━━━━━━━━━┩\n",
              "│ dense_8 (<span style=\"color: #0087ff; text-decoration-color: #0087ff\">Dense</span>)                 │ (<span style=\"color: #00d7ff; text-decoration-color: #00d7ff\">None</span>, <span style=\"color: #00af00; text-decoration-color: #00af00\">64</span>)             │           <span style=\"color: #00af00; text-decoration-color: #00af00\">576</span> │\n",
              "├─────────────────────────────────┼────────────────────────┼───────────────┤\n",
              "│ dense_9 (<span style=\"color: #0087ff; text-decoration-color: #0087ff\">Dense</span>)                 │ (<span style=\"color: #00d7ff; text-decoration-color: #00d7ff\">None</span>, <span style=\"color: #00af00; text-decoration-color: #00af00\">32</span>)             │         <span style=\"color: #00af00; text-decoration-color: #00af00\">2,080</span> │\n",
              "├─────────────────────────────────┼────────────────────────┼───────────────┤\n",
              "│ dense_10 (<span style=\"color: #0087ff; text-decoration-color: #0087ff\">Dense</span>)                │ (<span style=\"color: #00d7ff; text-decoration-color: #00d7ff\">None</span>, <span style=\"color: #00af00; text-decoration-color: #00af00\">16</span>)             │           <span style=\"color: #00af00; text-decoration-color: #00af00\">528</span> │\n",
              "├─────────────────────────────────┼────────────────────────┼───────────────┤\n",
              "│ dense_11 (<span style=\"color: #0087ff; text-decoration-color: #0087ff\">Dense</span>)                │ (<span style=\"color: #00d7ff; text-decoration-color: #00d7ff\">None</span>, <span style=\"color: #00af00; text-decoration-color: #00af00\">1</span>)              │            <span style=\"color: #00af00; text-decoration-color: #00af00\">17</span> │\n",
              "└─────────────────────────────────┴────────────────────────┴───────────────┘\n",
              "</pre>\n"
            ]
          },
          "metadata": {}
        },
        {
          "output_type": "display_data",
          "data": {
            "text/plain": [
              "\u001b[1m Total params: \u001b[0m\u001b[38;5;34m3,201\u001b[0m (12.50 KB)\n"
            ],
            "text/html": [
              "<pre style=\"white-space:pre;overflow-x:auto;line-height:normal;font-family:Menlo,'DejaVu Sans Mono',consolas,'Courier New',monospace\"><span style=\"font-weight: bold\"> Total params: </span><span style=\"color: #00af00; text-decoration-color: #00af00\">3,201</span> (12.50 KB)\n",
              "</pre>\n"
            ]
          },
          "metadata": {}
        },
        {
          "output_type": "display_data",
          "data": {
            "text/plain": [
              "\u001b[1m Trainable params: \u001b[0m\u001b[38;5;34m3,201\u001b[0m (12.50 KB)\n"
            ],
            "text/html": [
              "<pre style=\"white-space:pre;overflow-x:auto;line-height:normal;font-family:Menlo,'DejaVu Sans Mono',consolas,'Courier New',monospace\"><span style=\"font-weight: bold\"> Trainable params: </span><span style=\"color: #00af00; text-decoration-color: #00af00\">3,201</span> (12.50 KB)\n",
              "</pre>\n"
            ]
          },
          "metadata": {}
        },
        {
          "output_type": "display_data",
          "data": {
            "text/plain": [
              "\u001b[1m Non-trainable params: \u001b[0m\u001b[38;5;34m0\u001b[0m (0.00 B)\n"
            ],
            "text/html": [
              "<pre style=\"white-space:pre;overflow-x:auto;line-height:normal;font-family:Menlo,'DejaVu Sans Mono',consolas,'Courier New',monospace\"><span style=\"font-weight: bold\"> Non-trainable params: </span><span style=\"color: #00af00; text-decoration-color: #00af00\">0</span> (0.00 B)\n",
              "</pre>\n"
            ]
          },
          "metadata": {}
        }
      ]
    },
    {
      "cell_type": "code",
      "source": [
        "# Treinar o modelo\n",
        "history = keras_model.fit(\n",
        "    X_train_scaled, y_train,\n",
        "    epochs=100,\n",
        "    batch_size=32,\n",
        "    validation_split=0.2,\n",
        "    callbacks=[early_stopping],\n",
        "    verbose=1)\n",
        "\n",
        "# Fazer previsões\n",
        "y_pred_keras = keras_model.predict(X_test_scaled).flatten()\n",
        "\n",
        "# 3. Treinar modelos scikit-learn\n",
        "print(\"\\n\" + \"=\"*50)\n",
        "print(\"Treinando modelos scikit-learn...\")\n",
        "print(\"=\"*50)\n",
        "\n",
        "# Linear Regression\n",
        "print(\"Treinando Linear Regression...\")\n",
        "lr_model = LinearRegression()\n",
        "lr_model.fit(X_train_scaled, y_train)\n",
        "y_pred_lr = lr_model.predict(X_test_scaled)\n",
        "\n",
        "# Random Forest Regressor\n",
        "print(\"Treinando Random Forest Regressor...\")\n",
        "rf_model = RandomForestRegressor(n_estimators=100, random_state=42)\n",
        "rf_model.fit(X_train, y_train)  # Random Forest não precisa de scaling\n",
        "y_pred_rf = rf_model.predict(X_test)"
      ],
      "metadata": {
        "colab": {
          "base_uri": "https://localhost:8080/"
        },
        "id": "RUaKEq8MKgIy",
        "outputId": "c374cc27-5162-4b80-b5fd-f6ce1a8b9f9d"
      },
      "execution_count": null,
      "outputs": [
        {
          "output_type": "stream",
          "name": "stdout",
          "text": [
            "Epoch 1/100\n",
            "\u001b[1m413/413\u001b[0m \u001b[32m━━━━━━━━━━━━━━━━━━━━\u001b[0m\u001b[37m\u001b[0m \u001b[1m3s\u001b[0m 3ms/step - loss: 1.3873 - mae: 0.8109 - val_loss: 0.4480 - val_mae: 0.4931\n",
            "Epoch 2/100\n",
            "\u001b[1m413/413\u001b[0m \u001b[32m━━━━━━━━━━━━━━━━━━━━\u001b[0m\u001b[37m\u001b[0m \u001b[1m1s\u001b[0m 3ms/step - loss: 0.4017 - mae: 0.4516 - val_loss: 0.3927 - val_mae: 0.4488\n",
            "Epoch 3/100\n",
            "\u001b[1m413/413\u001b[0m \u001b[32m━━━━━━━━━━━━━━━━━━━━\u001b[0m\u001b[37m\u001b[0m \u001b[1m2s\u001b[0m 5ms/step - loss: 0.3475 - mae: 0.4208 - val_loss: 0.3684 - val_mae: 0.4289\n",
            "Epoch 4/100\n",
            "\u001b[1m413/413\u001b[0m \u001b[32m━━━━━━━━━━━━━━━━━━━━\u001b[0m\u001b[37m\u001b[0m \u001b[1m3s\u001b[0m 8ms/step - loss: 0.3372 - mae: 0.4142 - val_loss: 0.3569 - val_mae: 0.4127\n",
            "Epoch 5/100\n",
            "\u001b[1m413/413\u001b[0m \u001b[32m━━━━━━━━━━━━━━━━━━━━\u001b[0m\u001b[37m\u001b[0m \u001b[1m1s\u001b[0m 3ms/step - loss: 0.3440 - mae: 0.4170 - val_loss: 0.3580 - val_mae: 0.4308\n",
            "Epoch 6/100\n",
            "\u001b[1m413/413\u001b[0m \u001b[32m━━━━━━━━━━━━━━━━━━━━\u001b[0m\u001b[37m\u001b[0m \u001b[1m1s\u001b[0m 3ms/step - loss: 0.3196 - mae: 0.3996 - val_loss: 0.3398 - val_mae: 0.4020\n",
            "Epoch 7/100\n",
            "\u001b[1m413/413\u001b[0m \u001b[32m━━━━━━━━━━━━━━━━━━━━\u001b[0m\u001b[37m\u001b[0m \u001b[1m1s\u001b[0m 3ms/step - loss: 0.3056 - mae: 0.3868 - val_loss: 0.3398 - val_mae: 0.4120\n",
            "Epoch 8/100\n",
            "\u001b[1m413/413\u001b[0m \u001b[32m━━━━━━━━━━━━━━━━━━━━\u001b[0m\u001b[37m\u001b[0m \u001b[1m2s\u001b[0m 4ms/step - loss: 0.2984 - mae: 0.3805 - val_loss: 0.3253 - val_mae: 0.3991\n",
            "Epoch 9/100\n",
            "\u001b[1m413/413\u001b[0m \u001b[32m━━━━━━━━━━━━━━━━━━━━\u001b[0m\u001b[37m\u001b[0m \u001b[1m1s\u001b[0m 3ms/step - loss: 0.2863 - mae: 0.3727 - val_loss: 0.3257 - val_mae: 0.4026\n",
            "Epoch 10/100\n",
            "\u001b[1m413/413\u001b[0m \u001b[32m━━━━━━━━━━━━━━━━━━━━\u001b[0m\u001b[37m\u001b[0m \u001b[1m1s\u001b[0m 3ms/step - loss: 0.3171 - mae: 0.3802 - val_loss: 0.3250 - val_mae: 0.3964\n",
            "Epoch 11/100\n",
            "\u001b[1m413/413\u001b[0m \u001b[32m━━━━━━━━━━━━━━━━━━━━\u001b[0m\u001b[37m\u001b[0m \u001b[1m3s\u001b[0m 8ms/step - loss: 0.2953 - mae: 0.3776 - val_loss: 0.3208 - val_mae: 0.3870\n",
            "Epoch 12/100\n",
            "\u001b[1m413/413\u001b[0m \u001b[32m━━━━━━━━━━━━━━━━━━━━\u001b[0m\u001b[37m\u001b[0m \u001b[1m3s\u001b[0m 6ms/step - loss: 0.2806 - mae: 0.3683 - val_loss: 0.3104 - val_mae: 0.3857\n",
            "Epoch 13/100\n",
            "\u001b[1m413/413\u001b[0m \u001b[32m━━━━━━━━━━━━━━━━━━━━\u001b[0m\u001b[37m\u001b[0m \u001b[1m1s\u001b[0m 3ms/step - loss: 0.2935 - mae: 0.3725 - val_loss: 0.3153 - val_mae: 0.3801\n",
            "Epoch 14/100\n",
            "\u001b[1m413/413\u001b[0m \u001b[32m━━━━━━━━━━━━━━━━━━━━\u001b[0m\u001b[37m\u001b[0m \u001b[1m1s\u001b[0m 3ms/step - loss: 0.2811 - mae: 0.3657 - val_loss: 0.3148 - val_mae: 0.3847\n",
            "Epoch 15/100\n",
            "\u001b[1m413/413\u001b[0m \u001b[32m━━━━━━━━━━━━━━━━━━━━\u001b[0m\u001b[37m\u001b[0m \u001b[1m1s\u001b[0m 3ms/step - loss: 0.2912 - mae: 0.3696 - val_loss: 0.3267 - val_mae: 0.3915\n",
            "Epoch 16/100\n",
            "\u001b[1m413/413\u001b[0m \u001b[32m━━━━━━━━━━━━━━━━━━━━\u001b[0m\u001b[37m\u001b[0m \u001b[1m1s\u001b[0m 3ms/step - loss: 0.2735 - mae: 0.3618 - val_loss: 0.3036 - val_mae: 0.3713\n",
            "Epoch 17/100\n",
            "\u001b[1m413/413\u001b[0m \u001b[32m━━━━━━━━━━━━━━━━━━━━\u001b[0m\u001b[37m\u001b[0m \u001b[1m2s\u001b[0m 4ms/step - loss: 0.2864 - mae: 0.3698 - val_loss: 0.3102 - val_mae: 0.3848\n",
            "Epoch 18/100\n",
            "\u001b[1m413/413\u001b[0m \u001b[32m━━━━━━━━━━━━━━━━━━━━\u001b[0m\u001b[37m\u001b[0m \u001b[1m2s\u001b[0m 3ms/step - loss: 0.2779 - mae: 0.3653 - val_loss: 0.3054 - val_mae: 0.3712\n",
            "Epoch 19/100\n",
            "\u001b[1m413/413\u001b[0m \u001b[32m━━━━━━━━━━━━━━━━━━━━\u001b[0m\u001b[37m\u001b[0m \u001b[1m1s\u001b[0m 3ms/step - loss: 0.2596 - mae: 0.3526 - val_loss: 0.3029 - val_mae: 0.3902\n",
            "Epoch 20/100\n",
            "\u001b[1m413/413\u001b[0m \u001b[32m━━━━━━━━━━━━━━━━━━━━\u001b[0m\u001b[37m\u001b[0m \u001b[1m2s\u001b[0m 5ms/step - loss: 0.2770 - mae: 0.3625 - val_loss: 0.3075 - val_mae: 0.3777\n",
            "Epoch 21/100\n",
            "\u001b[1m413/413\u001b[0m \u001b[32m━━━━━━━━━━━━━━━━━━━━\u001b[0m\u001b[37m\u001b[0m \u001b[1m2s\u001b[0m 5ms/step - loss: 0.2730 - mae: 0.3599 - val_loss: 0.3093 - val_mae: 0.3862\n",
            "Epoch 22/100\n",
            "\u001b[1m413/413\u001b[0m \u001b[32m━━━━━━━━━━━━━━━━━━━━\u001b[0m\u001b[37m\u001b[0m \u001b[1m1s\u001b[0m 3ms/step - loss: 0.2718 - mae: 0.3595 - val_loss: 0.2960 - val_mae: 0.3674\n",
            "Epoch 23/100\n",
            "\u001b[1m413/413\u001b[0m \u001b[32m━━━━━━━━━━━━━━━━━━━━\u001b[0m\u001b[37m\u001b[0m \u001b[1m1s\u001b[0m 3ms/step - loss: 0.2736 - mae: 0.3606 - val_loss: 0.2971 - val_mae: 0.3638\n",
            "Epoch 24/100\n",
            "\u001b[1m413/413\u001b[0m \u001b[32m━━━━━━━━━━━━━━━━━━━━\u001b[0m\u001b[37m\u001b[0m \u001b[1m1s\u001b[0m 3ms/step - loss: 0.2832 - mae: 0.3599 - val_loss: 0.3061 - val_mae: 0.3808\n",
            "Epoch 25/100\n",
            "\u001b[1m413/413\u001b[0m \u001b[32m━━━━━━━━━━━━━━━━━━━━\u001b[0m\u001b[37m\u001b[0m \u001b[1m1s\u001b[0m 3ms/step - loss: 0.2685 - mae: 0.3533 - val_loss: 0.2956 - val_mae: 0.3699\n",
            "Epoch 26/100\n",
            "\u001b[1m413/413\u001b[0m \u001b[32m━━━━━━━━━━━━━━━━━━━━\u001b[0m\u001b[37m\u001b[0m \u001b[1m1s\u001b[0m 3ms/step - loss: 0.2622 - mae: 0.3500 - val_loss: 0.3014 - val_mae: 0.3708\n",
            "Epoch 27/100\n",
            "\u001b[1m413/413\u001b[0m \u001b[32m━━━━━━━━━━━━━━━━━━━━\u001b[0m\u001b[37m\u001b[0m \u001b[1m1s\u001b[0m 3ms/step - loss: 0.2561 - mae: 0.3505 - val_loss: 0.3019 - val_mae: 0.3760\n",
            "Epoch 28/100\n",
            "\u001b[1m413/413\u001b[0m \u001b[32m━━━━━━━━━━━━━━━━━━━━\u001b[0m\u001b[37m\u001b[0m \u001b[1m5s\u001b[0m 11ms/step - loss: 0.2688 - mae: 0.3598 - val_loss: 0.2980 - val_mae: 0.3757\n",
            "Epoch 29/100\n",
            "\u001b[1m413/413\u001b[0m \u001b[32m━━━━━━━━━━━━━━━━━━━━\u001b[0m\u001b[37m\u001b[0m \u001b[1m2s\u001b[0m 5ms/step - loss: 0.2630 - mae: 0.3511 - val_loss: 0.2974 - val_mae: 0.3782\n",
            "Epoch 30/100\n",
            "\u001b[1m413/413\u001b[0m \u001b[32m━━━━━━━━━━━━━━━━━━━━\u001b[0m\u001b[37m\u001b[0m \u001b[1m2s\u001b[0m 5ms/step - loss: 0.2640 - mae: 0.3522 - val_loss: 0.2946 - val_mae: 0.3722\n",
            "Epoch 31/100\n",
            "\u001b[1m413/413\u001b[0m \u001b[32m━━━━━━━━━━━━━━━━━━━━\u001b[0m\u001b[37m\u001b[0m \u001b[1m2s\u001b[0m 5ms/step - loss: 0.2519 - mae: 0.3457 - val_loss: 0.2924 - val_mae: 0.3754\n",
            "Epoch 32/100\n",
            "\u001b[1m413/413\u001b[0m \u001b[32m━━━━━━━━━━━━━━━━━━━━\u001b[0m\u001b[37m\u001b[0m \u001b[1m1s\u001b[0m 3ms/step - loss: 0.2614 - mae: 0.3536 - val_loss: 0.3033 - val_mae: 0.3641\n",
            "Epoch 33/100\n",
            "\u001b[1m413/413\u001b[0m \u001b[32m━━━━━━━━━━━━━━━━━━━━\u001b[0m\u001b[37m\u001b[0m \u001b[1m1s\u001b[0m 3ms/step - loss: 0.2682 - mae: 0.3553 - val_loss: 0.3059 - val_mae: 0.3927\n",
            "Epoch 34/100\n",
            "\u001b[1m413/413\u001b[0m \u001b[32m━━━━━━━━━━━━━━━━━━━━\u001b[0m\u001b[37m\u001b[0m \u001b[1m1s\u001b[0m 3ms/step - loss: 0.2554 - mae: 0.3489 - val_loss: 0.2902 - val_mae: 0.3679\n",
            "Epoch 35/100\n",
            "\u001b[1m413/413\u001b[0m \u001b[32m━━━━━━━━━━━━━━━━━━━━\u001b[0m\u001b[37m\u001b[0m \u001b[1m2s\u001b[0m 5ms/step - loss: 0.2534 - mae: 0.3461 - val_loss: 0.2981 - val_mae: 0.3773\n",
            "Epoch 36/100\n",
            "\u001b[1m413/413\u001b[0m \u001b[32m━━━━━━━━━━━━━━━━━━━━\u001b[0m\u001b[37m\u001b[0m \u001b[1m3s\u001b[0m 7ms/step - loss: 0.2466 - mae: 0.3414 - val_loss: 0.2912 - val_mae: 0.3693\n",
            "Epoch 37/100\n",
            "\u001b[1m413/413\u001b[0m \u001b[32m━━━━━━━━━━━━━━━━━━━━\u001b[0m\u001b[37m\u001b[0m \u001b[1m2s\u001b[0m 4ms/step - loss: 0.2544 - mae: 0.3451 - val_loss: 0.2924 - val_mae: 0.3616\n",
            "Epoch 38/100\n",
            "\u001b[1m413/413\u001b[0m \u001b[32m━━━━━━━━━━━━━━━━━━━━\u001b[0m\u001b[37m\u001b[0m \u001b[1m1s\u001b[0m 3ms/step - loss: 0.2524 - mae: 0.3410 - val_loss: 0.2919 - val_mae: 0.3701\n",
            "Epoch 39/100\n",
            "\u001b[1m413/413\u001b[0m \u001b[32m━━━━━━━━━━━━━━━━━━━━\u001b[0m\u001b[37m\u001b[0m \u001b[1m2s\u001b[0m 5ms/step - loss: 0.2390 - mae: 0.3377 - val_loss: 0.2944 - val_mae: 0.3745\n",
            "Epoch 40/100\n",
            "\u001b[1m413/413\u001b[0m \u001b[32m━━━━━━━━━━━━━━━━━━━━\u001b[0m\u001b[37m\u001b[0m \u001b[1m1s\u001b[0m 3ms/step - loss: 0.2484 - mae: 0.3446 - val_loss: 0.3014 - val_mae: 0.3707\n",
            "Epoch 41/100\n",
            "\u001b[1m413/413\u001b[0m \u001b[32m━━━━━━━━━━━━━━━━━━━━\u001b[0m\u001b[37m\u001b[0m \u001b[1m2s\u001b[0m 4ms/step - loss: 0.2369 - mae: 0.3364 - val_loss: 0.2840 - val_mae: 0.3557\n",
            "Epoch 42/100\n",
            "\u001b[1m413/413\u001b[0m \u001b[32m━━━━━━━━━━━━━━━━━━━━\u001b[0m\u001b[37m\u001b[0m \u001b[1m1s\u001b[0m 3ms/step - loss: 0.2390 - mae: 0.3367 - val_loss: 0.2991 - val_mae: 0.3645\n",
            "Epoch 43/100\n",
            "\u001b[1m413/413\u001b[0m \u001b[32m━━━━━━━━━━━━━━━━━━━━\u001b[0m\u001b[37m\u001b[0m \u001b[1m2s\u001b[0m 5ms/step - loss: 0.2463 - mae: 0.3383 - val_loss: 0.2861 - val_mae: 0.3600\n",
            "Epoch 44/100\n",
            "\u001b[1m413/413\u001b[0m \u001b[32m━━━━━━━━━━━━━━━━━━━━\u001b[0m\u001b[37m\u001b[0m \u001b[1m2s\u001b[0m 3ms/step - loss: 0.2507 - mae: 0.3415 - val_loss: 0.2863 - val_mae: 0.3650\n",
            "Epoch 45/100\n",
            "\u001b[1m413/413\u001b[0m \u001b[32m━━━━━━━━━━━━━━━━━━━━\u001b[0m\u001b[37m\u001b[0m \u001b[1m1s\u001b[0m 3ms/step - loss: 0.2475 - mae: 0.3405 - val_loss: 0.3133 - val_mae: 0.4029\n",
            "Epoch 46/100\n",
            "\u001b[1m413/413\u001b[0m \u001b[32m━━━━━━━━━━━━━━━━━━━━\u001b[0m\u001b[37m\u001b[0m \u001b[1m1s\u001b[0m 3ms/step - loss: 0.2423 - mae: 0.3402 - val_loss: 0.2926 - val_mae: 0.3653\n",
            "Epoch 47/100\n",
            "\u001b[1m413/413\u001b[0m \u001b[32m━━━━━━━━━━━━━━━━━━━━\u001b[0m\u001b[37m\u001b[0m \u001b[1m1s\u001b[0m 3ms/step - loss: 0.3152 - mae: 0.3474 - val_loss: 0.2840 - val_mae: 0.3580\n",
            "Epoch 48/100\n",
            "\u001b[1m413/413\u001b[0m \u001b[32m━━━━━━━━━━━━━━━━━━━━\u001b[0m\u001b[37m\u001b[0m \u001b[1m1s\u001b[0m 3ms/step - loss: 0.2342 - mae: 0.3312 - val_loss: 0.2887 - val_mae: 0.3632\n",
            "Epoch 49/100\n",
            "\u001b[1m413/413\u001b[0m \u001b[32m━━━━━━━━━━━━━━━━━━━━\u001b[0m\u001b[37m\u001b[0m \u001b[1m1s\u001b[0m 3ms/step - loss: 0.2384 - mae: 0.3333 - val_loss: 0.2910 - val_mae: 0.3613\n",
            "Epoch 50/100\n",
            "\u001b[1m413/413\u001b[0m \u001b[32m━━━━━━━━━━━━━━━━━━━━\u001b[0m\u001b[37m\u001b[0m \u001b[1m1s\u001b[0m 3ms/step - loss: 0.2352 - mae: 0.3346 - val_loss: 0.2957 - val_mae: 0.3670\n",
            "Epoch 51/100\n",
            "\u001b[1m413/413\u001b[0m \u001b[32m━━━━━━━━━━━━━━━━━━━━\u001b[0m\u001b[37m\u001b[0m \u001b[1m1s\u001b[0m 3ms/step - loss: 0.2309 - mae: 0.3296 - val_loss: 0.3009 - val_mae: 0.3810\n",
            "\u001b[1m129/129\u001b[0m \u001b[32m━━━━━━━━━━━━━━━━━━━━\u001b[0m\u001b[37m\u001b[0m \u001b[1m0s\u001b[0m 1ms/step\n",
            "\n",
            "==================================================\n",
            "Treinando modelos scikit-learn...\n",
            "==================================================\n",
            "Treinando Linear Regression...\n",
            "Treinando Random Forest Regressor...\n"
          ]
        }
      ]
    },
    {
      "cell_type": "code",
      "source": [
        "# 4. Avaliar e comparar modelos\n",
        "print(\"\\n\" + \"=\"*50)\n",
        "print(\"COMPARAÇÃO DOS MODELOS\")\n",
        "print(\"=\"*50)\n",
        "\n",
        "def evaluate_model(y_true, y_pred, model_name):\n",
        "    mse = mean_squared_error(y_true, y_pred)\n",
        "    rmse = np.sqrt(mse)\n",
        "    mae = mean_absolute_error(y_true, y_pred)\n",
        "\n",
        "    print(f\"\\n{model_name}:\")\n",
        "    print(f\"  RMSE: {rmse:.4f}\")\n",
        "    print(f\"  MAE:  {mae:.4f}\")\n",
        "    print(f\"  MSE:  {mse:.4f}\")\n",
        "\n",
        "    return rmse, mae\n",
        "\n",
        "# Avaliar todos os modelos\n",
        "results = {}\n",
        "results['Keras NN'] = evaluate_model(y_test, y_pred_keras, \"Keras Neural Network\")\n",
        "results['Linear Regression'] = evaluate_model(y_test, y_pred_lr, \"Linear Regression\")\n",
        "results['Random Forest'] = evaluate_model(y_test, y_pred_rf, \"Random Forest\")\n",
        "\n",
        "# 5. Visualizar resultados\n",
        "plt.figure(figsize=(15, 5))\n",
        "\n",
        "# Gráfico 1: Comparação de previsões vs valores reais\n",
        "plt.subplot(1, 3, 1)\n",
        "plt.scatter(y_test, y_pred_keras, alpha=0.5, label='Keras NN')\n",
        "plt.scatter(y_test, y_pred_rf, alpha=0.5, label='Random Forest')\n",
        "plt.scatter(y_test, y_pred_lr, alpha=0.5, label='Linear Regression')\n",
        "plt.plot([y_test.min(), y_test.max()], [y_test.min(), y_test.max()], 'r--', lw=2)\n",
        "plt.xlabel('Valor Real')\n",
        "plt.ylabel('Valor Previsto')\n",
        "plt.title('Previsões vs Valores Reais')\n",
        "plt.legend()\n",
        "\n",
        "# Gráfico 2: Comparação de RMSE\n",
        "plt.subplot(1, 3, 2)\n",
        "models = list(results.keys())\n",
        "rmse_values = [results[model][0] for model in models]\n",
        "plt.bar(models, rmse_values, color=['blue', 'orange', 'green'])\n",
        "plt.title('Comparação do RMSE')\n",
        "plt.xticks(rotation=45)\n",
        "plt.ylabel('RMSE')\n",
        "\n",
        "# Gráfico 3: Comparação de MAE\n",
        "plt.subplot(1, 3, 3)\n",
        "mae_values = [results[model][1] for model in models]\n",
        "plt.bar(models, mae_values, color=['blue', 'orange', 'green'])\n",
        "plt.title('Comparação do MAE')\n",
        "plt.xticks(rotation=45)\n",
        "plt.ylabel('MAE')\n",
        "\n",
        "plt.tight_layout()\n",
        "plt.show()\n",
        "\n",
        "# 6. Análise detalhada\n",
        "print(\"\\n\" + \"=\"*50)\n",
        "print(\"ANÁLISE DOS RESULTADOS\")\n",
        "print(\"=\"*50)\n",
        "\n",
        "# Encontrar o melhor modelo baseado no RMSE\n",
        "best_model_rmse = min(results, key=lambda x: results[x][0])\n",
        "best_model_mae = min(results, key=lambda x: results[x][1])\n",
        "\n",
        "print(f\"\\nMelhor modelo por RMSE: {best_model_rmse} (RMSE = {results[best_model_rmse][0]:.4f})\")\n",
        "print(f\"Melhor modelo por MAE: {best_model_mae} (MAE = {results[best_model_mae][1]:.4f})\")\n",
        "\n",
        "# Calcular porcentagem de melhoria\n",
        "rmse_baseline = results['Linear Regression'][0]\n",
        "for model_name, (rmse, mae) in results.items():\n",
        "    if model_name != 'Linear Regression':\n",
        "        improvement = ((rmse_baseline - rmse) / rmse_baseline) * 100\n",
        "        print(f\"\\n{model_name} vs Linear Regression:\")\n",
        "        print(f\"  Melhoria no RMSE: {improvement:+.2f}%\")\n",
        "\n",
        "# 7. Visualizar histórico de treinamento da rede neural\n",
        "plt.figure(figsize=(12, 4))\n",
        "\n",
        "plt.subplot(1, 2, 1)\n",
        "plt.plot(history.history['loss'], label='Train Loss')\n",
        "plt.plot(history.history['val_loss'], label='Validation Loss')\n",
        "plt.title('Evolução da Loss durante o Treinamento')\n",
        "plt.xlabel('Época')\n",
        "plt.ylabel('Loss (MSE)')\n",
        "plt.legend()\n",
        "\n",
        "plt.subplot(1, 2, 2)\n",
        "plt.plot(history.history['mae'], label='Train MAE')\n",
        "plt.plot(history.history['val_mae'], label='Validation MAE')\n",
        "plt.title('Evolução do MAE durante o Treinamento')\n",
        "plt.xlabel('Época')\n",
        "plt.ylabel('MAE')\n",
        "plt.legend()\n",
        "\n",
        "plt.tight_layout()\n",
        "plt.show()\n",
        "\n",
        "# 8. Importância das features (Random Forest)\n",
        "print(\"\\n\" + \"=\"*50)\n",
        "print(\"IMPORTÂNCIA DAS FEATURES (Random Forest)\")\n",
        "print(\"=\"*50)\n",
        "\n",
        "feature_importance = pd.DataFrame({\n",
        "    'feature': housing.feature_names,\n",
        "    'importance': rf_model.feature_importances_\n",
        "}).sort_values('importance', ascending=False)\n",
        "\n",
        "print(feature_importance)"
      ],
      "metadata": {
        "id": "Fu64gEYiKvQO"
      },
      "execution_count": null,
      "outputs": []
    },
    {
      "cell_type": "code",
      "source": [
        "#Conclusão:\n",
        "#O modelo Random Forest costuma ter uma performance melhor quando se trata de problemas de regressão com dados tabulares, mas a rede neural pode alcançar resultados semelhantes com a arquitetura e tuning adequados. A Regressão Linear serve como uma baseline útil para acompanhamento de possíveis melhorias."
      ],
      "metadata": {
        "id": "2zb2b-DCK4wl"
      },
      "execution_count": null,
      "outputs": []
    },
    {
      "cell_type": "markdown",
      "source": [
        "Comparação de desempenho entre os modelos"
      ],
      "metadata": {
        "id": "6aXsH4xgJuLf"
      }
    },
    {
      "cell_type": "code",
      "source": [],
      "metadata": {
        "id": "dnj7kRGAJzO4"
      },
      "execution_count": null,
      "outputs": []
    }
  ]
}