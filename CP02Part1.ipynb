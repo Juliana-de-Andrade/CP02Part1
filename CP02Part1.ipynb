{
  "nbformat": 4,
  "nbformat_minor": 0,
  "metadata": {
    "colab": {
      "provenance": [],
      "authorship_tag": "ABX9TyPwgK0Rmh291ednhqex2ZWw",
      "include_colab_link": true
    },
    "kernelspec": {
      "name": "python3",
      "display_name": "Python 3"
    },
    "language_info": {
      "name": "python"
    }
  },
  "cells": [
    {
      "cell_type": "markdown",
      "metadata": {
        "id": "view-in-github",
        "colab_type": "text"
      },
      "source": [
        "<a href=\"https://colab.research.google.com/github/Juliana-de-Andrade/CP02Part1/blob/main/CP02Part1.ipynb\" target=\"_parent\"><img src=\"https://colab.research.google.com/assets/colab-badge.svg\" alt=\"Open In Colab\"/></a>"
      ]
    },
    {
      "cell_type": "code",
      "source": [
        "#imports\n",
        "import numpy as np\n",
        "import pandas as pd\n",
        "import zipfile\n",
        "from sklearn.datasets import fetch_california_housing\n",
        "from sklearn.model_selection import train_test_split\n",
        "from sklearn.preprocessing import StandardScaler\n",
        "from sklearn.linear_model import LinearRegression\n",
        "from sklearn.ensemble import RandomForestRegressor\n",
        "from sklearn.metrics import mean_squared_error, mean_absolute_error\n",
        "import tensorflow as tf\n",
        "from tensorflow import keras\n",
        "from tensorflow.keras import layers\n",
        "import matplotlib.pyplot as plt\n",
        "from sklearn.preprocessing import StandardScaler, LabelEncoder\n",
        "from sklearn.metrics import accuracy_score, classification_report\n",
        "from sklearn.ensemble import RandomForestClassifier\n",
        "from tensorflow.keras.models import Sequential\n",
        "from tensorflow.keras.layers import Dense\n",
        "from tensorflow.keras.utils import to_categorical\n",
        "import os"
      ],
      "metadata": {
        "id": "8NB1IMPlJFgJ"
      },
      "execution_count": null,
      "outputs": []
    },
    {
      "cell_type": "markdown",
      "source": [
        "ExERCÍCIO 1 – CLASSIFICAÇÃO MULTICLASSE\n",
        "Dataset: Wine Dataset (UCI)\n",
        "1. Treinar uma rede neural em Keras para classificar vinhos em 3 classes.\n",
        "- Configuração mínima: 2 camadas ocultas com 32 neurônios cada, função de ativação ReLU.\n",
        "- Camada de saída com 3 neurônios, função de ativação Softmax.\n",
        "- Função de perda: categorical_crossentropy.\n",
        "- Otimizador: Adam.\n",
        "2. Comparar os resultados com um modelo do scikit-learn (RandomForestClassifier ou\n",
        "LogisticRegression).\n",
        "3. Registrar métricas de acurácia e discutir qual modelo teve melhor desempenho"
      ],
      "metadata": {
        "id": "6e9QEkAdJirS"
      }
    },
    {
      "cell_type": "code",
      "execution_count": null,
      "metadata": {
        "id": "Kja6daXg2iJ2"
      },
      "outputs": [],
      "source": [
        "# Extrair o ZIP\n",
        "zip_path = '/content/wine.zip'\n",
        "extract_path = '/content/wine_data'\n",
        "\n",
        "with zipfile.ZipFile(zip_path, 'r') as zip_ref:\n",
        "    zip_ref.extractall(extract_path)\n",
        "\n",
        "# Verificar arquivos extraídos\n",
        "files = os.listdir(extract_path)\n",
        "print(\"Arquivos extraídos:\", files)\n",
        "\n",
        "# Procurar arquivo .data\n",
        "data_file = None\n",
        "for f in files:\n",
        "    if f.endswith('.data'):\n",
        "        data_file = f\n",
        "        break\n",
        "\n",
        "if data_file is None:\n",
        "    raise FileNotFoundError(\"Arquivo .data não encontrado dentro do ZIP\")\n",
        "\n",
        "dataset_path = os.path.join(extract_path, data_file)"
      ]
    },
    {
      "cell_type": "code",
      "source": [
        "colunas = [\n",
        "    'Class', 'Alcohol', 'Malic acid', 'Ash', 'Alcalinity of ash', 'Magnesium',\n",
        "    'Total phenols', 'Flavanoids', 'Nonflavanoid phenols', 'Proanthocyanins',\n",
        "    'Color intensity', 'Hue', 'OD280/OD315 of diluted wines', 'Proline'\n",
        "]\n",
        "\n",
        "data = pd.read_csv(dataset_path, header=None, names=colunas)\n",
        "print(\"\\nVisualização inicial do dataset:\")\n",
        "print(data.head())\n",
        "\n",
        "# Separar features (X) e rótulos (y)\n",
        "X = data.iloc[:, 1:].values   # Todas as colunas exceto 'Class'\n",
        "y = data.iloc[:, 0].values    # Coluna 'Class'\n",
        "\n",
        "# Converter rótulos para categorias (0,1,2)\n",
        "encoder = LabelEncoder()\n",
        "y_encoded = encoder.fit_transform(y)\n",
        "y_categorical = to_categorical(y_encoded)  # para Keras\n"
      ],
      "metadata": {
        "id": "CYs0ru2RMbna",
        "colab": {
          "base_uri": "https://localhost:8080/"
        },
        "outputId": "1c39eb66-3818-460f-9f19-d51392f95753"
      },
      "execution_count": 7,
      "outputs": [
        {
          "output_type": "stream",
          "name": "stdout",
          "text": [
            "\n",
            "Visualização inicial do dataset:\n",
            "   Class  Alcohol  Malic acid   Ash  Alcalinity of ash  Magnesium  \\\n",
            "0      1    14.23        1.71  2.43               15.6        127   \n",
            "1      1    13.20        1.78  2.14               11.2        100   \n",
            "2      1    13.16        2.36  2.67               18.6        101   \n",
            "3      1    14.37        1.95  2.50               16.8        113   \n",
            "4      1    13.24        2.59  2.87               21.0        118   \n",
            "\n",
            "   Total phenols  Flavanoids  Nonflavanoid phenols  Proanthocyanins  \\\n",
            "0           2.80        3.06                  0.28             2.29   \n",
            "1           2.65        2.76                  0.26             1.28   \n",
            "2           2.80        3.24                  0.30             2.81   \n",
            "3           3.85        3.49                  0.24             2.18   \n",
            "4           2.80        2.69                  0.39             1.82   \n",
            "\n",
            "   Color intensity   Hue  OD280/OD315 of diluted wines  Proline  \n",
            "0             5.64  1.04                          3.92     1065  \n",
            "1             4.38  1.05                          3.40     1050  \n",
            "2             5.68  1.03                          3.17     1185  \n",
            "3             7.80  0.86                          3.45     1480  \n",
            "4             4.32  1.04                          2.93      735  \n"
          ]
        }
      ]
    },
    {
      "cell_type": "code",
      "source": [
        "#Divisão Treino/Teste\n",
        "\n",
        "X_train, X_test, y_train, y_test = train_test_split(\n",
        "    X, y_categorical, test_size=0.2, random_state=42, stratify=y_categorical\n",
        ")\n",
        "\n",
        "# Escalonar os dados (importante para NN)\n",
        "scaler = StandardScaler()\n",
        "X_train = scaler.fit_transform(X_train)\n",
        "X_test = scaler.transform(X_test)"
      ],
      "metadata": {
        "id": "nmVhls9Bs4sW"
      },
      "execution_count": 8,
      "outputs": []
    },
    {
      "cell_type": "code",
      "source": [
        "#Rede Neural (Keras)\n",
        "\n",
        "model = Sequential([\n",
        "    Dense(32, activation='relu', input_shape=(X_train.shape[1],)),\n",
        "    Dense(32, activation='relu'),\n",
        "    Dense(3, activation='softmax')  # 3 classes\n",
        "])\n",
        "\n",
        "model.compile(optimizer='adam',\n",
        "              loss='categorical_crossentropy',\n",
        "              metrics=['accuracy'])\n",
        "\n",
        "history = model.fit(\n",
        "    X_train, y_train,\n",
        "    epochs=50,\n",
        "    batch_size=8,\n",
        "    verbose=0,  # mude para 1 se quiser ver o progresso\n",
        "    validation_split=0.1\n",
        ")\n",
        "\n",
        "# Avaliar no conjunto de teste\n",
        "loss, acc_nn = model.evaluate(X_test, y_test, verbose=0)\n",
        "print(f\"\\n✅ Acurácia da Rede Neural (Keras): {acc_nn:.4f}\")"
      ],
      "metadata": {
        "colab": {
          "base_uri": "https://localhost:8080/"
        },
        "id": "yV7ASTSIs_T-",
        "outputId": "98fb9662-3bc7-4ae2-801c-c5fcf6b2d803"
      },
      "execution_count": 9,
      "outputs": [
        {
          "output_type": "stream",
          "name": "stderr",
          "text": [
            "/usr/local/lib/python3.12/dist-packages/keras/src/layers/core/dense.py:93: UserWarning: Do not pass an `input_shape`/`input_dim` argument to a layer. When using Sequential models, prefer using an `Input(shape)` object as the first layer in the model instead.\n",
            "  super().__init__(activity_regularizer=activity_regularizer, **kwargs)\n"
          ]
        },
        {
          "output_type": "stream",
          "name": "stdout",
          "text": [
            "\n",
            "✅ Acurácia da Rede Neural (Keras): 1.0000\n"
          ]
        }
      ]
    },
    {
      "cell_type": "code",
      "source": [
        "#Random Forest (Scikit-learn)\n",
        "\n",
        "# Converter rótulos de volta para inteiros para RF\n",
        "y_train_rf = np.argmax(y_train, axis=1)\n",
        "y_test_rf = np.argmax(y_test, axis=1)\n",
        "\n",
        "rf = RandomForestClassifier(random_state=42)\n",
        "rf.fit(X_train, y_train_rf)\n",
        "y_pred_rf = rf.predict(X_test)\n",
        "\n",
        "acc_rf = accuracy_score(y_test_rf, y_pred_rf)\n",
        "print(f\"✅ Acurácia do RandomForestClassifier: {acc_rf:.4f}\")\n",
        "\n",
        "# Relatório de classificação\n",
        "print(\"\\n=== Classification Report (Random Forest) ===\")\n",
        "print(classification_report(y_test_rf, y_pred_rf, target_names=encoder.classes_.astype(str)))\n"
      ],
      "metadata": {
        "colab": {
          "base_uri": "https://localhost:8080/"
        },
        "id": "9UvSRTHDtIFI",
        "outputId": "8e4804d1-c186-47e2-f713-4c721402a23c"
      },
      "execution_count": 10,
      "outputs": [
        {
          "output_type": "stream",
          "name": "stdout",
          "text": [
            "✅ Acurácia do RandomForestClassifier: 1.0000\n",
            "\n",
            "=== Classification Report (Random Forest) ===\n",
            "              precision    recall  f1-score   support\n",
            "\n",
            "           1       1.00      1.00      1.00        12\n",
            "           2       1.00      1.00      1.00        14\n",
            "           3       1.00      1.00      1.00        10\n",
            "\n",
            "    accuracy                           1.00        36\n",
            "   macro avg       1.00      1.00      1.00        36\n",
            "weighted avg       1.00      1.00      1.00        36\n",
            "\n"
          ]
        }
      ]
    },
    {
      "cell_type": "code",
      "source": [
        "#Comparação Final\n",
        "# ===============================\n",
        "if acc_nn > acc_rf:\n",
        "    melhor = \"Rede Neural (Keras)\"\n",
        "elif acc_nn < acc_rf:\n",
        "    melhor = \"Random Forest\"\n",
        "else:\n",
        "    melhor = \"Empate\"\n",
        "\n",
        "print(\"\\n==============================\")\n",
        "print(f\"Melhor desempenho: {melhor}\")\n",
        "print(f\"Acurácia Rede Neural: {acc_nn:.4f}\")\n",
        "print(f\"Acurácia Random Forest: {acc_rf:.4f}\")\n",
        "print(\"==============================\")"
      ],
      "metadata": {
        "colab": {
          "base_uri": "https://localhost:8080/"
        },
        "id": "m8sMGePJtJ9v",
        "outputId": "4fd8e5a0-313c-4d32-a058-c36d4a10dfbd"
      },
      "execution_count": 11,
      "outputs": [
        {
          "output_type": "stream",
          "name": "stdout",
          "text": [
            "\n",
            "==============================\n",
            "Melhor desempenho: Empate\n",
            "Acurácia Rede Neural: 1.0000\n",
            "Acurácia Random Forest: 1.0000\n",
            "==============================\n"
          ]
        }
      ]
    },
    {
      "cell_type": "markdown",
      "source": [
        "EXERCÍCIO 2 – REGRESSÃO\n",
        "Dataset: California Housing Dataset (Scikit-learn)\n",
        "1. Treinar uma rede neural em Keras para prever o valor médio das casas.\n",
        "- Configuração mínima: 3 camadas ocultas com 64, 32 e 16 neurônios, função de ativação ReLU.\n",
        "- Camada de saída com 1 neurônio, função de ativação Linear.\n",
        "- Função de perda: mse.\n",
        "- Otimizador: Adam.\n",
        "2. Comparar os resultados com um modelo do scikit-learn (LinearRegression ou\n",
        "RandomForestRegressor).\n",
        "3. Registrar métricas de erro (RMSE ou MAE) e discutir qual modelo teve melhor desempenho"
      ],
      "metadata": {
        "id": "x6yBfBDxJl24"
      }
    },
    {
      "cell_type": "code",
      "source": [
        "# Carregar e preparar os dados\n",
        "print(\"Carregando o dataset California Housing...\")\n",
        "housing = fetch_california_housing()\n",
        "X, y = housing.data, housing.target"
      ],
      "metadata": {
        "id": "YHqX_wjWJooI"
      },
      "execution_count": null,
      "outputs": []
    },
    {
      "cell_type": "code",
      "source": [
        "# Dividir em treino e teste\n",
        "X_train, X_test, y_train, y_test = train_test_split(\n",
        "    X, y, test_size=0.2, random_state=42)"
      ],
      "metadata": {
        "id": "Bqwd_BDYKN4Q"
      },
      "execution_count": null,
      "outputs": []
    },
    {
      "cell_type": "code",
      "source": [
        "# Escalar os dados\n",
        "scaler = StandardScaler()\n",
        "X_train_scaled = scaler.fit_transform(X_train)\n",
        "X_test_scaled = scaler.transform(X_test)\n",
        "\n",
        "print(f\"Shape dos dados de treino: {X_train.shape}\")\n",
        "print(f\"Shape dos dados de teste: {X_test.shape}\")\n",
        "print(f\"Nomes das features: {housing.feature_names}\")"
      ],
      "metadata": {
        "id": "WViYXfeVKTxA"
      },
      "execution_count": null,
      "outputs": []
    },
    {
      "cell_type": "code",
      "source": [
        "# 2. Treinar modelo Keras\n",
        "print(\"\\n\" + \"=\"*50)\n",
        "print(\"Treinando Rede Neural Keras...\")\n",
        "print(\"=\"*50)\n",
        "\n",
        "def create_keras_model():\n",
        "    model = keras.Sequential([\n",
        "        layers.Dense(64, activation='relu', input_shape=(X_train.shape[1],)),\n",
        "        layers.Dense(32, activation='relu'),\n",
        "        layers.Dense(16, activation='relu'),\n",
        "        layers.Dense(1, activation='linear')\n",
        "    ])\n",
        "\n",
        "    model.compile(\n",
        "        optimizer='adam',\n",
        "        loss='mse',\n",
        "        metrics=['mae']\n",
        "    )\n",
        "    return model\n",
        "\n",
        "# Criar e treinar o modelo\n",
        "keras_model = create_keras_model()\n",
        "\n",
        "print(\"Arquitetura da rede neural:\")\n",
        "keras_model.summary()\n",
        "\n",
        "# Callback para early stopping\n",
        "early_stopping = keras.callbacks.EarlyStopping(\n",
        "    patience=10,\n",
        "    restore_best_weights=True)"
      ],
      "metadata": {
        "id": "z0wUCAaqKaCp"
      },
      "execution_count": null,
      "outputs": []
    },
    {
      "cell_type": "code",
      "source": [
        "# Treinar o modelo\n",
        "history = keras_model.fit(\n",
        "    X_train_scaled, y_train,\n",
        "    epochs=100,\n",
        "    batch_size=32,\n",
        "    validation_split=0.2,\n",
        "    callbacks=[early_stopping],\n",
        "    verbose=1)\n",
        "\n",
        "# Fazer previsões\n",
        "y_pred_keras = keras_model.predict(X_test_scaled).flatten()\n",
        "\n",
        "# 3. Treinar modelos scikit-learn\n",
        "print(\"\\n\" + \"=\"*50)\n",
        "print(\"Treinando modelos scikit-learn...\")\n",
        "print(\"=\"*50)\n",
        "\n",
        "# Linear Regression\n",
        "print(\"Treinando Linear Regression...\")\n",
        "lr_model = LinearRegression()\n",
        "lr_model.fit(X_train_scaled, y_train)\n",
        "y_pred_lr = lr_model.predict(X_test_scaled)\n",
        "\n",
        "# Random Forest Regressor\n",
        "print(\"Treinando Random Forest Regressor...\")\n",
        "rf_model = RandomForestRegressor(n_estimators=100, random_state=42)\n",
        "rf_model.fit(X_train, y_train)  # Random Forest não precisa de scaling\n",
        "y_pred_rf = rf_model.predict(X_test)"
      ],
      "metadata": {
        "id": "RUaKEq8MKgIy"
      },
      "execution_count": null,
      "outputs": []
    },
    {
      "cell_type": "code",
      "source": [
        "# 4. Avaliar e comparar modelos\n",
        "print(\"\\n\" + \"=\"*50)\n",
        "print(\"COMPARAÇÃO DOS MODELOS\")\n",
        "print(\"=\"*50)\n",
        "\n",
        "def evaluate_model(y_true, y_pred, model_name):\n",
        "    mse = mean_squared_error(y_true, y_pred)\n",
        "    rmse = np.sqrt(mse)\n",
        "    mae = mean_absolute_error(y_true, y_pred)\n",
        "\n",
        "    print(f\"\\n{model_name}:\")\n",
        "    print(f\"  RMSE: {rmse:.4f}\")\n",
        "    print(f\"  MAE:  {mae:.4f}\")\n",
        "    print(f\"  MSE:  {mse:.4f}\")\n",
        "\n",
        "    return rmse, mae\n",
        "\n",
        "# Avaliar todos os modelos\n",
        "results = {}\n",
        "results['Keras NN'] = evaluate_model(y_test, y_pred_keras, \"Keras Neural Network\")\n",
        "results['Linear Regression'] = evaluate_model(y_test, y_pred_lr, \"Linear Regression\")\n",
        "results['Random Forest'] = evaluate_model(y_test, y_pred_rf, \"Random Forest\")\n",
        "\n",
        "# 5. Visualizar resultados\n",
        "plt.figure(figsize=(15, 5))\n",
        "\n",
        "# Gráfico 1: Comparação de previsões vs valores reais\n",
        "plt.subplot(1, 3, 1)\n",
        "plt.scatter(y_test, y_pred_keras, alpha=0.5, label='Keras NN')\n",
        "plt.scatter(y_test, y_pred_rf, alpha=0.5, label='Random Forest')\n",
        "plt.scatter(y_test, y_pred_lr, alpha=0.5, label='Linear Regression')\n",
        "plt.plot([y_test.min(), y_test.max()], [y_test.min(), y_test.max()], 'r--', lw=2)\n",
        "plt.xlabel('Valor Real')\n",
        "plt.ylabel('Valor Previsto')\n",
        "plt.title('Previsões vs Valores Reais')\n",
        "plt.legend()\n",
        "\n",
        "# Gráfico 2: Comparação de RMSE\n",
        "plt.subplot(1, 3, 2)\n",
        "models = list(results.keys())\n",
        "rmse_values = [results[model][0] for model in models]\n",
        "plt.bar(models, rmse_values, color=['blue', 'orange', 'green'])\n",
        "plt.title('Comparação do RMSE')\n",
        "plt.xticks(rotation=45)\n",
        "plt.ylabel('RMSE')\n",
        "\n",
        "# Gráfico 3: Comparação de MAE\n",
        "plt.subplot(1, 3, 3)\n",
        "mae_values = [results[model][1] for model in models]\n",
        "plt.bar(models, mae_values, color=['blue', 'orange', 'green'])\n",
        "plt.title('Comparação do MAE')\n",
        "plt.xticks(rotation=45)\n",
        "plt.ylabel('MAE')\n",
        "\n",
        "plt.tight_layout()\n",
        "plt.show()\n",
        "\n",
        "# 6. Análise detalhada\n",
        "print(\"\\n\" + \"=\"*50)\n",
        "print(\"ANÁLISE DOS RESULTADOS\")\n",
        "print(\"=\"*50)\n",
        "\n",
        "# Encontrar o melhor modelo baseado no RMSE\n",
        "best_model_rmse = min(results, key=lambda x: results[x][0])\n",
        "best_model_mae = min(results, key=lambda x: results[x][1])\n",
        "\n",
        "print(f\"\\nMelhor modelo por RMSE: {best_model_rmse} (RMSE = {results[best_model_rmse][0]:.4f})\")\n",
        "print(f\"Melhor modelo por MAE: {best_model_mae} (MAE = {results[best_model_mae][1]:.4f})\")\n",
        "\n",
        "# Calcular porcentagem de melhoria\n",
        "rmse_baseline = results['Linear Regression'][0]\n",
        "for model_name, (rmse, mae) in results.items():\n",
        "    if model_name != 'Linear Regression':\n",
        "        improvement = ((rmse_baseline - rmse) / rmse_baseline) * 100\n",
        "        print(f\"\\n{model_name} vs Linear Regression:\")\n",
        "        print(f\"  Melhoria no RMSE: {improvement:+.2f}%\")\n",
        "\n",
        "# 7. Visualizar histórico de treinamento da rede neural\n",
        "plt.figure(figsize=(12, 4))\n",
        "\n",
        "plt.subplot(1, 2, 1)\n",
        "plt.plot(history.history['loss'], label='Train Loss')\n",
        "plt.plot(history.history['val_loss'], label='Validation Loss')\n",
        "plt.title('Evolução da Loss durante o Treinamento')\n",
        "plt.xlabel('Época')\n",
        "plt.ylabel('Loss (MSE)')\n",
        "plt.legend()\n",
        "\n",
        "plt.subplot(1, 2, 2)\n",
        "plt.plot(history.history['mae'], label='Train MAE')\n",
        "plt.plot(history.history['val_mae'], label='Validation MAE')\n",
        "plt.title('Evolução do MAE durante o Treinamento')\n",
        "plt.xlabel('Época')\n",
        "plt.ylabel('MAE')\n",
        "plt.legend()\n",
        "\n",
        "plt.tight_layout()\n",
        "plt.show()\n",
        "\n",
        "# 8. Importância das features (Random Forest)\n",
        "print(\"\\n\" + \"=\"*50)\n",
        "print(\"IMPORTÂNCIA DAS FEATURES (Random Forest)\")\n",
        "print(\"=\"*50)\n",
        "\n",
        "feature_importance = pd.DataFrame({\n",
        "    'feature': housing.feature_names,\n",
        "    'importance': rf_model.feature_importances_\n",
        "}).sort_values('importance', ascending=False)\n",
        "\n",
        "print(feature_importance)"
      ],
      "metadata": {
        "id": "Fu64gEYiKvQO"
      },
      "execution_count": null,
      "outputs": []
    },
    {
      "cell_type": "markdown",
      "source": [
        "Comparação de desempenho entre os modelos"
      ],
      "metadata": {
        "id": "6aXsH4xgJuLf"
      }
    },
    {
      "cell_type": "code",
      "source": [
        "#Conclusão:\n",
        "#O modelo Random Forest costuma ter uma performance melhor quando se trata de problemas de regressão com dados tabulares, mas a rede neural pode alcançar resultados semelhantes com a arquitetura e tuning adequados. A Regressão Linear serve como uma baseline útil para acompanhamento de possíveis melhorias."
      ],
      "metadata": {
        "id": "2zb2b-DCK4wl"
      },
      "execution_count": null,
      "outputs": []
    }
  ]
}